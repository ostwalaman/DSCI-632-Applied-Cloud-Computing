{
  "cells": [
    {
      "cell_type": "markdown",
      "metadata": {
        "id": "yXb04qg5puTf"
      },
      "source": [
        "# DSCI 632 - Applied Cloud Computing - Final Project\n",
        "\n",
        "### Team Members\n",
        "- Aman Ostwal (ago34@drexel.edu)\n",
        "- Darshit Rai (dr3264@drexel.edu)\n",
        "- Sanskruti Chavanke (sc4323@drexel.edu)"
      ]
    },
    {
      "cell_type": "markdown",
      "metadata": {
        "id": "5Kh1gU6Jp02p"
      },
      "source": [
        "## Configuration:"
      ]
    },
    {
      "cell_type": "code",
      "execution_count": 1,
      "metadata": {
        "id": "wByVAUQlp4hK"
      },
      "outputs": [],
      "source": [
        "# Install the `findspark` and `pyspark` package quietly\n",
        "!pip install -q findspark pyspark\n",
        "\n",
        "# Import the `os` module for operating system functionalities\n",
        "import os"
      ]
    },
    {
      "cell_type": "markdown",
      "metadata": {
        "id": "21Fm5S72p7eM"
      },
      "source": [
        "## Load Packages and Functions"
      ]
    },
    {
      "cell_type": "code",
      "execution_count": 2,
      "metadata": {
        "id": "ISbHW4E3p7uV"
      },
      "outputs": [],
      "source": [
        "# Initialize PySpark in Colab\n",
        "import findspark\n",
        "findspark.init()\n",
        "from pyspark import SparkContext\n",
        "from pyspark.ml.evaluation import RegressionEvaluator\n",
        "from pyspark.ml.recommendation import ALS\n",
        "from pyspark.ml.tuning import CrossValidator, ParamGridBuilder\n",
        "from pyspark.sql import SparkSession"
      ]
    },
    {
      "cell_type": "code",
      "execution_count": 3,
      "metadata": {
        "id": "BK7R7HkBDYah"
      },
      "outputs": [],
      "source": [
        "def get_movie_title_from_id(movieId):\n",
        "    try:\n",
        "        # Filter the DataFrame to find the title corresponding to the given movieId\n",
        "        title = movie_titles.filter(movie_titles[\"movieId\"] == movieId).select(\"title\").first()[0]\n",
        "        return title\n",
        "    except:\n",
        "        return \"Unknown Movie\"  # If movieId not found, return a default message"
      ]
    },
    {
      "cell_type": "code",
      "source": [
        "def get_user_recommended_movies(recs_df, userId):\n",
        "    try:\n",
        "        # Filter recommendations DataFrame to get recommendations for the given userId\n",
        "        user_recommendations = recs_df.filter(recs_df[\"userId\"] == userId).select(\"recommendations\")\n",
        "        # Check if recommendations exist for the user\n",
        "        if user_recommendations.count() > 0:\n",
        "            # Iterate through recommendations and print movie titles with predicted ratings\n",
        "            for row in user_recommendations.collect():\n",
        "                for movie in row.recommendations:\n",
        "                    movie_id, rating = movie\n",
        "                    movie_title = get_movie_title_from_id(movie_id)\n",
        "                    print(f\"Movie: \\n{movie_title}\\nPredicted Rating: {rating}\\n\")\n",
        "        else:\n",
        "            print(\"No recommendations found for this user.\")\n",
        "    except ValueError:\n",
        "        print(\"That userId does not exist in the dataset. Try another.\")"
      ],
      "metadata": {
        "id": "5KXWgQwsuvYj"
      },
      "execution_count": 4,
      "outputs": []
    },
    {
      "cell_type": "markdown",
      "metadata": {
        "id": "bhOKTRChp_sd"
      },
      "source": [
        "## Import Data"
      ]
    },
    {
      "cell_type": "code",
      "execution_count": 5,
      "metadata": {
        "colab": {
          "base_uri": "https://localhost:8080/"
        },
        "id": "6Ze-nFFcqAhK",
        "outputId": "0268463b-919f-4885-804e-713e4818ad68"
      },
      "outputs": [
        {
          "output_type": "stream",
          "name": "stdout",
          "text": [
            "Master :  local[*]\n",
            "Cores  :  2\n"
          ]
        }
      ],
      "source": [
        "# Create SparkContext\n",
        "from pyspark import SparkContext\n",
        "\n",
        "# Get or create SparkContext\n",
        "sc = SparkContext.getOrCreate()\n",
        "\n",
        "# Create SparkSession\n",
        "from pyspark.sql import SparkSession\n",
        "\n",
        "# Get or create SparkSession\n",
        "spark = SparkSession.builder.getOrCreate()\n",
        "\n",
        "# Print SparkContext information\n",
        "print('Master : ', sc.master)  # Print the URL of the master\n",
        "print('Cores  : ', sc.defaultParallelism)  # Print the number of cores being used"
      ]
    },
    {
      "cell_type": "code",
      "execution_count": 6,
      "metadata": {
        "colab": {
          "base_uri": "https://localhost:8080/"
        },
        "id": "nzlxKDBYCuzX",
        "outputId": "0f3e1d2a-e965-444f-b42e-3262d66f777e"
      },
      "outputs": [
        {
          "output_type": "stream",
          "name": "stdout",
          "text": [
            "+-------+-------------------------------------+-------------------------------------------+\n",
            "|movieId|title                                |genres                                     |\n",
            "+-------+-------------------------------------+-------------------------------------------+\n",
            "|1      |Toy Story (1995)                     |Adventure|Animation|Children|Comedy|Fantasy|\n",
            "|2      |Jumanji (1995)                       |Adventure|Children|Fantasy                 |\n",
            "|3      |Grumpier Old Men (1995)              |Comedy|Romance                             |\n",
            "|4      |Waiting to Exhale (1995)             |Comedy|Drama|Romance                       |\n",
            "|5      |Father of the Bride Part II (1995)   |Comedy                                     |\n",
            "|6      |Heat (1995)                          |Action|Crime|Thriller                      |\n",
            "|7      |Sabrina (1995)                       |Comedy|Romance                             |\n",
            "|8      |Tom and Huck (1995)                  |Adventure|Children                         |\n",
            "|9      |Sudden Death (1995)                  |Action                                     |\n",
            "|10     |GoldenEye (1995)                     |Action|Adventure|Thriller                  |\n",
            "|11     |American President, The (1995)       |Comedy|Drama|Romance                       |\n",
            "|12     |Dracula: Dead and Loving It (1995)   |Comedy|Horror                              |\n",
            "|13     |Balto (1995)                         |Adventure|Animation|Children               |\n",
            "|14     |Nixon (1995)                         |Drama                                      |\n",
            "|15     |Cutthroat Island (1995)              |Action|Adventure|Romance                   |\n",
            "|16     |Casino (1995)                        |Crime|Drama                                |\n",
            "|17     |Sense and Sensibility (1995)         |Drama|Romance                              |\n",
            "|18     |Four Rooms (1995)                    |Comedy                                     |\n",
            "|19     |Ace Ventura: When Nature Calls (1995)|Comedy                                     |\n",
            "|20     |Money Train (1995)                   |Action|Comedy|Crime|Drama|Thriller         |\n",
            "+-------+-------------------------------------+-------------------------------------------+\n",
            "only showing top 20 rows\n",
            "\n"
          ]
        }
      ],
      "source": [
        "import pandas as pd\n",
        "\n",
        "# Define the file path\n",
        "file_path = \"/content/movies.csv\"\n",
        "\n",
        "# Read CSV file into a DataFrame\n",
        "movie_titles = spark.read.csv(file_path, header=True, inferSchema=True)\n",
        "\n",
        "# Show the first few rows of the DataFrame\n",
        "movie_titles.show(truncate=False)"
      ]
    },
    {
      "cell_type": "code",
      "execution_count": 7,
      "metadata": {
        "colab": {
          "base_uri": "https://localhost:8080/"
        },
        "id": "arqOB2xKqGAO",
        "outputId": "06366e4e-c796-49f6-d4be-17dd47f95c55"
      },
      "outputs": [
        {
          "output_type": "stream",
          "name": "stdout",
          "text": [
            "+------+-------+------+---------+\n",
            "|userId|movieId|rating|timestamp|\n",
            "+------+-------+------+---------+\n",
            "|1     |1      |4.0   |964982703|\n",
            "|1     |3      |4.0   |964981247|\n",
            "|1     |6      |4.0   |964982224|\n",
            "|1     |47     |5.0   |964983815|\n",
            "|1     |50     |5.0   |964982931|\n",
            "|1     |70     |3.0   |964982400|\n",
            "|1     |101    |5.0   |964980868|\n",
            "|1     |110    |4.0   |964982176|\n",
            "|1     |151    |5.0   |964984041|\n",
            "|1     |157    |5.0   |964984100|\n",
            "|1     |163    |5.0   |964983650|\n",
            "|1     |216    |5.0   |964981208|\n",
            "|1     |223    |3.0   |964980985|\n",
            "|1     |231    |5.0   |964981179|\n",
            "|1     |235    |4.0   |964980908|\n",
            "|1     |260    |5.0   |964981680|\n",
            "|1     |296    |3.0   |964982967|\n",
            "|1     |316    |3.0   |964982310|\n",
            "|1     |333    |5.0   |964981179|\n",
            "|1     |349    |4.0   |964982563|\n",
            "+------+-------+------+---------+\n",
            "only showing top 20 rows\n",
            "\n"
          ]
        }
      ],
      "source": [
        "# Define the file path\n",
        "file_path = \"/content/ratings.csv\"\n",
        "\n",
        "# Read CSV file into a DataFrame\n",
        "ratings = spark.read.csv(file_path, header=True, inferSchema=True)\n",
        "\n",
        "# Show the first few rows of the DataFrame\n",
        "ratings.show(truncate=False)"
      ]
    },
    {
      "cell_type": "markdown",
      "metadata": {
        "id": "JBfUm4CKqMc2"
      },
      "source": [
        "## ALS Model Creation"
      ]
    },
    {
      "cell_type": "markdown",
      "metadata": {
        "id": "ai7buVMuqUPF"
      },
      "source": [
        "We'll split our data 80/20% into training/testing sets and set ```seed``` to 50 for reproducibility."
      ]
    },
    {
      "cell_type": "code",
      "execution_count": 8,
      "metadata": {
        "id": "4MK5lC5zqNIB"
      },
      "outputs": [],
      "source": [
        "# Selecting required columns from the ratings DataFrame\n",
        "ratings = ratings.select(\"userId\", \"movieId\", \"rating\")\n",
        "\n",
        "# Splitting the data into training and testing sets with 80/20 ratio\n",
        "# Setting seed to 42 for reproducibility\n",
        "(training_data, test_data) = ratings.randomSplit([0.8, 0.2], seed=50)"
      ]
    },
    {
      "cell_type": "markdown",
      "metadata": {
        "id": "mPnh_5G6qWV1"
      },
      "source": [
        "Initialize our model.  We'll set the following parameters before optimizing hyperparameters:\n",
        "- `nonnegative`: `True`. We only want non-negative numbers, as a negative rating has no meaning in this context.  \n",
        "- `coldStartStrategy`: `\"drop\"`.  Helps avoid situations where all of a user's ratings are added to the training set only.  This data will not be used when calculating RMSE, because predictions on these users would be meaningless because there is nothing to test.\n",
        "- `implicitPrefs`: `False`.  We have actual ratings, so we don't need to use implicit feedback."
      ]
    },
    {
      "cell_type": "code",
      "execution_count": 9,
      "metadata": {
        "id": "sWcfuKHgqWtV"
      },
      "outputs": [],
      "source": [
        "# from pyspark.ml.recommendation import ALS\n",
        "\n",
        "# als = ALS(userCol=\"userId\", itemCol=\"movieId\", ratingCol=\"rating\",\n",
        "#           nonnegative = True, coldStartStrategy = \"drop\", implicitPrefs = False)\n",
        "\n",
        "# Import ALS from PySpark ML recommendation module\n",
        "from pyspark.ml.recommendation import ALS\n",
        "\n",
        "# Initialize ALS model with specified parameters\n",
        "# userCol: Column name for user IDs\n",
        "# itemCol: Column name for item IDs\n",
        "# ratingCol: Column name for ratings\n",
        "# nonnegative: Whether to use non-negative constraint for least squares\n",
        "# coldStartStrategy: Strategy for dealing with unknown or new users/items during prediction (\"drop\" will drop any rows in the DataFrame of predictions that contain NaN values)\n",
        "# implicitPrefs: Whether to treat ratings as implicit feedback (default is False)\n",
        "\n",
        "als = ALS(userCol=\"userId\", itemCol=\"movieId\", ratingCol=\"rating\", nonnegative=True, coldStartStrategy=\"drop\", implicitPrefs=False)\n"
      ]
    },
    {
      "cell_type": "markdown",
      "metadata": {
        "id": "f0uya_gYqYbn"
      },
      "source": [
        "Now we'll build our `ParamGridBuilder`:"
      ]
    },
    {
      "cell_type": "code",
      "execution_count": 10,
      "metadata": {
        "id": "b55oJnocqZeB"
      },
      "outputs": [],
      "source": [
        "# Import ParamGridBuilder from PySpark ML tuning module\n",
        "from pyspark.ml.tuning import ParamGridBuilder\n",
        "\n",
        "# Define parameter grid for hyperparameter tuning\n",
        "param_grid = ParamGridBuilder() \\\n",
        "                  .addGrid(als.rank, [5, 20]) \\\n",
        "                  .addGrid(als.maxIter, [5]) \\\n",
        "                  .addGrid(als.regParam, [0.01, 0.05, 1]) \\\n",
        "                  .build()"
      ]
    },
    {
      "cell_type": "markdown",
      "metadata": {
        "id": "tIen1IvdqanS"
      },
      "source": [
        "Next, we'll create our evaluator and use RMSE as our metric:"
      ]
    },
    {
      "cell_type": "code",
      "execution_count": 11,
      "metadata": {
        "colab": {
          "base_uri": "https://localhost:8080/"
        },
        "id": "QoerGnB0qawd",
        "outputId": "b0a85bc8-6396-40fd-d169-8d7df2e0b00c"
      },
      "outputs": [
        {
          "output_type": "stream",
          "name": "stdout",
          "text": [
            "Number of models to be tested:  6\n"
          ]
        }
      ],
      "source": [
        "# Import RegressionEvaluator from PySpark ML evaluation module\n",
        "from pyspark.ml.evaluation import RegressionEvaluator\n",
        "\n",
        "# Initialize RegressionEvaluator with specified metric, label column, and prediction column\n",
        "# metricName: The metric to use for evaluation (Root Mean Squared Error in this case)\n",
        "# labelCol: Column name for the true ratings\n",
        "# predictionCol: Column name for the predicted ratings\n",
        "evaluator = RegressionEvaluator(metricName=\"rmse\", labelCol=\"rating\", predictionCol=\"prediction\")\n",
        "\n",
        "# Print the number of models to be tested based on the parameter grid\n",
        "print(\"Number of models to be tested: \", len(param_grid))"
      ]
    },
    {
      "cell_type": "markdown",
      "metadata": {
        "id": "zS-G421YqcWM"
      },
      "source": [
        "Create CrossValidator:"
      ]
    },
    {
      "cell_type": "code",
      "execution_count": 12,
      "metadata": {
        "id": "zbm4OzbGqc0d"
      },
      "outputs": [],
      "source": [
        "# Import CrossValidator from PySpark ML tuning module\n",
        "from pyspark.ml.tuning import CrossValidator\n",
        "\n",
        "# Initialize CrossValidator with specified parameters\n",
        "# estimator: The estimator (ALS model in this case) to be cross-validated\n",
        "# estimatorParamMaps: Parameter grid for hyperparameter tuning\n",
        "# evaluator: The evaluator to use for model selection (RegressionEvaluator in this case)\n",
        "# numFolds: Number of folds for cross-validation\n",
        "cv = CrossValidator(estimator=als,\n",
        "                    estimatorParamMaps=param_grid,\n",
        "                    evaluator=evaluator,\n",
        "                    numFolds=5)"
      ]
    },
    {
      "cell_type": "markdown",
      "metadata": {
        "id": "roWfoHzlqeO0"
      },
      "source": [
        "Fit Data:"
      ]
    },
    {
      "cell_type": "code",
      "execution_count": 13,
      "metadata": {
        "id": "SaGGVqMYqgfp"
      },
      "outputs": [],
      "source": [
        "# Fit the CrossValidator to the training data, which performs model selection\n",
        "model = cv.fit(training_data)\n",
        "\n",
        "# Get the best model selected by the CrossValidator\n",
        "best_model = model.bestModel"
      ]
    },
    {
      "cell_type": "markdown",
      "metadata": {
        "id": "yEj2Hq_wqfY5"
      },
      "source": [
        "Get information on the best model:"
      ]
    },
    {
      "cell_type": "code",
      "execution_count": 14,
      "metadata": {
        "id": "KG3bJu_fqfB1",
        "colab": {
          "base_uri": "https://localhost:8080/"
        },
        "outputId": "c0f75e82-e44b-4eff-9d6e-b08004f07d31"
      },
      "outputs": [
        {
          "output_type": "stream",
          "name": "stdout",
          "text": [
            "<class 'pyspark.ml.recommendation.ALSModel'>\n",
            "\n",
            "**Best Model**\n",
            "Rank: 5\n",
            "MaxIter: 5\n",
            "RegParam: 0.05\n"
          ]
        }
      ],
      "source": [
        "# Print the type of the best_model\n",
        "print(type(best_model))\n",
        "\n",
        "# Print information about the best model\n",
        "print(\"\\n**Best Model**\")\n",
        "print(\"Rank:\", best_model.rank)  # Print the rank of the best model\n",
        "print(\"MaxIter:\", best_model._java_obj.parent().getMaxIter())  # Print the maximum number of iterations of the best model\n",
        "print(\"RegParam:\", best_model._java_obj.parent().getRegParam())  # Print the regularization parameter of the best model"
      ]
    },
    {
      "cell_type": "markdown",
      "metadata": {
        "id": "noN4sgaNqkbU"
      },
      "source": [
        "## Performance Evaluation"
      ]
    },
    {
      "cell_type": "markdown",
      "metadata": {
        "id": "NaNU61Amrrke"
      },
      "source": [
        "Let's generate predictions on the test data:"
      ]
    },
    {
      "cell_type": "code",
      "execution_count": 15,
      "metadata": {
        "id": "R1oSkgApruaa",
        "colab": {
          "base_uri": "https://localhost:8080/"
        },
        "outputId": "9f9990a5-539e-4ab9-d635-09cad376093a"
      },
      "outputs": [
        {
          "output_type": "stream",
          "name": "stdout",
          "text": [
            "+------+-------+------+----------+\n",
            "|userId|movieId|rating|prediction|\n",
            "+------+-------+------+----------+\n",
            "|580   |44022  |3.5   |3.7855005 |\n",
            "|133   |471    |4.0   |2.9903438 |\n",
            "|108   |1959   |5.0   |4.121835  |\n",
            "|155   |3175   |4.0   |3.4476712 |\n",
            "|34    |3997   |2.0   |2.8021786 |\n",
            "|368   |1645   |3.0   |2.8253365 |\n",
            "|28    |1645   |2.5   |3.069725  |\n",
            "|587   |1238   |4.0   |3.861096  |\n",
            "|332   |1645   |3.5   |3.0652223 |\n",
            "|577   |1959   |4.0   |3.559896  |\n",
            "|384   |2122   |1.0   |2.7819238 |\n",
            "|606   |1645   |3.5   |3.1752186 |\n",
            "|606   |1829   |3.5   |2.1398973 |\n",
            "|606   |1959   |3.5   |3.8126364 |\n",
            "|223   |1342   |1.0   |4.016542  |\n",
            "|91    |471    |1.0   |3.1500528 |\n",
            "|91    |6620   |3.5   |3.367694  |\n",
            "|330   |1580   |4.0   |3.2828496 |\n",
            "|157   |3175   |2.0   |3.9116929 |\n",
            "|232   |68135  |4.0   |3.2063005 |\n",
            "+------+-------+------+----------+\n",
            "only showing top 20 rows\n",
            "\n"
          ]
        }
      ],
      "source": [
        "# Make predictions on the test data using the best model\n",
        "test_predictions = best_model.transform(test_data)\n",
        "\n",
        "# Show the first 5 rows of the predictions DataFrame\n",
        "test_predictions.show(truncate=False)"
      ]
    },
    {
      "cell_type": "code",
      "execution_count": 16,
      "metadata": {
        "id": "Xhya51RDqlQG",
        "colab": {
          "base_uri": "https://localhost:8080/"
        },
        "outputId": "ded54b3a-1a7b-4ac3-af11-48f1a49dccab"
      },
      "outputs": [
        {
          "output_type": "stream",
          "name": "stdout",
          "text": [
            "0.9120234454843942\n",
            "91.20234454843941\n"
          ]
        }
      ],
      "source": [
        "# Evaluate the predictions using the evaluator\n",
        "RMSE = evaluator.evaluate(test_predictions)\n",
        "\n",
        "# Print the root mean squared error (RMSE)\n",
        "print(RMSE)\n",
        "print(RMSE * 100)"
      ]
    },
    {
      "cell_type": "markdown",
      "metadata": {
        "id": "_sWCT11PAYrO"
      },
      "source": [
        "## Generate Recommendations:"
      ]
    },
    {
      "cell_type": "code",
      "execution_count": 17,
      "metadata": {
        "id": "bNc8zsKY-VCT",
        "colab": {
          "base_uri": "https://localhost:8080/"
        },
        "outputId": "7f1fd3f5-8296-475d-ea52-9cfad1c35cc9"
      },
      "outputs": [
        {
          "output_type": "stream",
          "name": "stdout",
          "text": [
            "+------+---------------------------------------------------------------------------------------------------------+\n",
            "|userId|recommendations                                                                                          |\n",
            "+------+---------------------------------------------------------------------------------------------------------+\n",
            "|1     |[{157775, 6.435184}, {150554, 6.435184}, {149566, 6.435184}, {149508, 6.435184}, {142444, 6.435184}]     |\n",
            "|2     |[{8477, 6.008811}, {1916, 5.985858}, {157775, 5.719481}, {149566, 5.719481}, {147410, 5.719481}]         |\n",
            "|3     |[{3837, 7.170146}, {74754, 6.3216515}, {446, 5.8772163}, {42018, 5.770948}, {52712, 5.720191}]           |\n",
            "|4     |[{68945, 5.804837}, {6376, 5.7241693}, {7579, 5.5963883}, {171867, 5.45473}, {84847, 5.443246}]          |\n",
            "|5     |[{157775, 5.8970184}, {149566, 5.8970184}, {143031, 5.8970184}, {140133, 5.8970184}, {139640, 5.8970184}]|\n",
            "|6     |[{8477, 6.354791}, {157775, 6.128828}, {149566, 6.128828}, {147410, 6.128828}, {146684, 6.128828}]       |\n",
            "|7     |[{32892, 6.413049}, {6376, 5.983747}, {170355, 5.945046}, {430, 5.807307}, {26326, 5.8016157}]           |\n",
            "|8     |[{3379, 5.686247}, {26326, 5.6257095}, {104339, 5.434928}, {25947, 5.317192}, {157775, 5.3129754}]       |\n",
            "|9     |[{157775, 6.1854005}, {150554, 6.1854005}, {149566, 6.1854005}, {142444, 6.1854005}, {140133, 6.1854005}]|\n",
            "|10    |[{3223, 5.854538}, {1916, 5.813051}, {84847, 5.6856017}, {7669, 5.43427}, {2907, 5.258571}]              |\n",
            "|11    |[{32892, 6.4604473}, {84847, 6.031041}, {3379, 5.9423723}, {69524, 5.905854}, {104339, 5.8863187}]       |\n",
            "|12    |[{3379, 8.095366}, {26326, 7.9377046}, {157775, 7.9322476}, {149566, 7.9322476}, {149508, 7.9322476}]    |\n",
            "|13    |[{157775, 6.50848}, {149566, 6.50848}, {140133, 6.50848}, {139640, 6.50848}, {136834, 6.50848}]          |\n",
            "|14    |[{8477, 6.525798}, {89904, 6.0254693}, {3266, 6.0147805}, {156605, 5.8732176}, {1916, 5.84526}]          |\n",
            "|15    |[{8477, 5.3004236}, {89904, 5.2441874}, {1916, 5.014225}, {3266, 4.9595375}, {96004, 4.9131536}]         |\n",
            "|16    |[{3379, 5.112334}, {104339, 4.8873954}, {68945, 4.8341002}, {26326, 4.8084426}, {3606, 4.6755247}]       |\n",
            "|17    |[{157775, 6.1006556}, {149566, 6.1006556}, {147410, 6.1006556}, {142444, 6.1006556}, {140133, 6.1006556}]|\n",
            "|18    |[{3379, 5.5425186}, {104339, 5.378499}, {26326, 5.3123727}, {157775, 5.1890945}, {149566, 5.1890945}]    |\n",
            "|19    |[{32892, 4.695127}, {84847, 4.5883913}, {3379, 4.3986235}, {26326, 4.295489}, {104339, 4.284134}]        |\n",
            "|20    |[{157775, 5.924898}, {149566, 5.924898}, {143031, 5.924898}, {142444, 5.924898}, {141928, 5.924898}]     |\n",
            "+------+---------------------------------------------------------------------------------------------------------+\n",
            "only showing top 20 rows\n",
            "\n"
          ]
        }
      ],
      "source": [
        "# Generate top movie recommendations for each user using the best model\n",
        "userRecs = best_model.recommendForAllUsers(5)\n",
        "\n",
        "# Show the first rows of the recommendations DataFrame without truncating the column values\n",
        "userRecs.show(truncate=False)"
      ]
    },
    {
      "cell_type": "code",
      "execution_count": 18,
      "metadata": {
        "id": "pF7ALup6BG1P",
        "colab": {
          "base_uri": "https://localhost:8080/",
          "height": 206
        },
        "outputId": "882cf979-a216-4cdf-b1a2-8de4ce45cff7"
      },
      "outputs": [
        {
          "output_type": "execute_result",
          "data": {
            "text/plain": [
              "   userId                                    recommendations\n",
              "0       1  [(157775, 6.435184001922607), (150554, 6.43518...\n",
              "1       2  [(8477, 6.008810997009277), (1916, 5.985857963...\n",
              "2       3  [(3837, 7.1701459884643555), (74754, 6.3216514...\n",
              "3       4  [(68945, 5.804837226867676), (6376, 5.72416925...\n",
              "4       5  [(157775, 5.8970184326171875), (149566, 5.8970..."
            ],
            "text/html": [
              "\n",
              "  <div id=\"df-e78c4bd2-638d-41eb-aa4e-0174ec373125\" class=\"colab-df-container\">\n",
              "    <div>\n",
              "<style scoped>\n",
              "    .dataframe tbody tr th:only-of-type {\n",
              "        vertical-align: middle;\n",
              "    }\n",
              "\n",
              "    .dataframe tbody tr th {\n",
              "        vertical-align: top;\n",
              "    }\n",
              "\n",
              "    .dataframe thead th {\n",
              "        text-align: right;\n",
              "    }\n",
              "</style>\n",
              "<table border=\"1\" class=\"dataframe\">\n",
              "  <thead>\n",
              "    <tr style=\"text-align: right;\">\n",
              "      <th></th>\n",
              "      <th>userId</th>\n",
              "      <th>recommendations</th>\n",
              "    </tr>\n",
              "  </thead>\n",
              "  <tbody>\n",
              "    <tr>\n",
              "      <th>0</th>\n",
              "      <td>1</td>\n",
              "      <td>[(157775, 6.435184001922607), (150554, 6.43518...</td>\n",
              "    </tr>\n",
              "    <tr>\n",
              "      <th>1</th>\n",
              "      <td>2</td>\n",
              "      <td>[(8477, 6.008810997009277), (1916, 5.985857963...</td>\n",
              "    </tr>\n",
              "    <tr>\n",
              "      <th>2</th>\n",
              "      <td>3</td>\n",
              "      <td>[(3837, 7.1701459884643555), (74754, 6.3216514...</td>\n",
              "    </tr>\n",
              "    <tr>\n",
              "      <th>3</th>\n",
              "      <td>4</td>\n",
              "      <td>[(68945, 5.804837226867676), (6376, 5.72416925...</td>\n",
              "    </tr>\n",
              "    <tr>\n",
              "      <th>4</th>\n",
              "      <td>5</td>\n",
              "      <td>[(157775, 5.8970184326171875), (149566, 5.8970...</td>\n",
              "    </tr>\n",
              "  </tbody>\n",
              "</table>\n",
              "</div>\n",
              "    <div class=\"colab-df-buttons\">\n",
              "\n",
              "  <div class=\"colab-df-container\">\n",
              "    <button class=\"colab-df-convert\" onclick=\"convertToInteractive('df-e78c4bd2-638d-41eb-aa4e-0174ec373125')\"\n",
              "            title=\"Convert this dataframe to an interactive table.\"\n",
              "            style=\"display:none;\">\n",
              "\n",
              "  <svg xmlns=\"http://www.w3.org/2000/svg\" height=\"24px\" viewBox=\"0 -960 960 960\">\n",
              "    <path d=\"M120-120v-720h720v720H120Zm60-500h600v-160H180v160Zm220 220h160v-160H400v160Zm0 220h160v-160H400v160ZM180-400h160v-160H180v160Zm440 0h160v-160H620v160ZM180-180h160v-160H180v160Zm440 0h160v-160H620v160Z\"/>\n",
              "  </svg>\n",
              "    </button>\n",
              "\n",
              "  <style>\n",
              "    .colab-df-container {\n",
              "      display:flex;\n",
              "      gap: 12px;\n",
              "    }\n",
              "\n",
              "    .colab-df-convert {\n",
              "      background-color: #E8F0FE;\n",
              "      border: none;\n",
              "      border-radius: 50%;\n",
              "      cursor: pointer;\n",
              "      display: none;\n",
              "      fill: #1967D2;\n",
              "      height: 32px;\n",
              "      padding: 0 0 0 0;\n",
              "      width: 32px;\n",
              "    }\n",
              "\n",
              "    .colab-df-convert:hover {\n",
              "      background-color: #E2EBFA;\n",
              "      box-shadow: 0px 1px 2px rgba(60, 64, 67, 0.3), 0px 1px 3px 1px rgba(60, 64, 67, 0.15);\n",
              "      fill: #174EA6;\n",
              "    }\n",
              "\n",
              "    .colab-df-buttons div {\n",
              "      margin-bottom: 4px;\n",
              "    }\n",
              "\n",
              "    [theme=dark] .colab-df-convert {\n",
              "      background-color: #3B4455;\n",
              "      fill: #D2E3FC;\n",
              "    }\n",
              "\n",
              "    [theme=dark] .colab-df-convert:hover {\n",
              "      background-color: #434B5C;\n",
              "      box-shadow: 0px 1px 3px 1px rgba(0, 0, 0, 0.15);\n",
              "      filter: drop-shadow(0px 1px 2px rgba(0, 0, 0, 0.3));\n",
              "      fill: #FFFFFF;\n",
              "    }\n",
              "  </style>\n",
              "\n",
              "    <script>\n",
              "      const buttonEl =\n",
              "        document.querySelector('#df-e78c4bd2-638d-41eb-aa4e-0174ec373125 button.colab-df-convert');\n",
              "      buttonEl.style.display =\n",
              "        google.colab.kernel.accessAllowed ? 'block' : 'none';\n",
              "\n",
              "      async function convertToInteractive(key) {\n",
              "        const element = document.querySelector('#df-e78c4bd2-638d-41eb-aa4e-0174ec373125');\n",
              "        const dataTable =\n",
              "          await google.colab.kernel.invokeFunction('convertToInteractive',\n",
              "                                                    [key], {});\n",
              "        if (!dataTable) return;\n",
              "\n",
              "        const docLinkHtml = 'Like what you see? Visit the ' +\n",
              "          '<a target=\"_blank\" href=https://colab.research.google.com/notebooks/data_table.ipynb>data table notebook</a>'\n",
              "          + ' to learn more about interactive tables.';\n",
              "        element.innerHTML = '';\n",
              "        dataTable['output_type'] = 'display_data';\n",
              "        await google.colab.output.renderOutput(dataTable, element);\n",
              "        const docLink = document.createElement('div');\n",
              "        docLink.innerHTML = docLinkHtml;\n",
              "        element.appendChild(docLink);\n",
              "      }\n",
              "    </script>\n",
              "  </div>\n",
              "\n",
              "\n",
              "<div id=\"df-00a5d729-c1d4-41be-9971-47faa230cd69\">\n",
              "  <button class=\"colab-df-quickchart\" onclick=\"quickchart('df-00a5d729-c1d4-41be-9971-47faa230cd69')\"\n",
              "            title=\"Suggest charts\"\n",
              "            style=\"display:none;\">\n",
              "\n",
              "<svg xmlns=\"http://www.w3.org/2000/svg\" height=\"24px\"viewBox=\"0 0 24 24\"\n",
              "     width=\"24px\">\n",
              "    <g>\n",
              "        <path d=\"M19 3H5c-1.1 0-2 .9-2 2v14c0 1.1.9 2 2 2h14c1.1 0 2-.9 2-2V5c0-1.1-.9-2-2-2zM9 17H7v-7h2v7zm4 0h-2V7h2v10zm4 0h-2v-4h2v4z\"/>\n",
              "    </g>\n",
              "</svg>\n",
              "  </button>\n",
              "\n",
              "<style>\n",
              "  .colab-df-quickchart {\n",
              "      --bg-color: #E8F0FE;\n",
              "      --fill-color: #1967D2;\n",
              "      --hover-bg-color: #E2EBFA;\n",
              "      --hover-fill-color: #174EA6;\n",
              "      --disabled-fill-color: #AAA;\n",
              "      --disabled-bg-color: #DDD;\n",
              "  }\n",
              "\n",
              "  [theme=dark] .colab-df-quickchart {\n",
              "      --bg-color: #3B4455;\n",
              "      --fill-color: #D2E3FC;\n",
              "      --hover-bg-color: #434B5C;\n",
              "      --hover-fill-color: #FFFFFF;\n",
              "      --disabled-bg-color: #3B4455;\n",
              "      --disabled-fill-color: #666;\n",
              "  }\n",
              "\n",
              "  .colab-df-quickchart {\n",
              "    background-color: var(--bg-color);\n",
              "    border: none;\n",
              "    border-radius: 50%;\n",
              "    cursor: pointer;\n",
              "    display: none;\n",
              "    fill: var(--fill-color);\n",
              "    height: 32px;\n",
              "    padding: 0;\n",
              "    width: 32px;\n",
              "  }\n",
              "\n",
              "  .colab-df-quickchart:hover {\n",
              "    background-color: var(--hover-bg-color);\n",
              "    box-shadow: 0 1px 2px rgba(60, 64, 67, 0.3), 0 1px 3px 1px rgba(60, 64, 67, 0.15);\n",
              "    fill: var(--button-hover-fill-color);\n",
              "  }\n",
              "\n",
              "  .colab-df-quickchart-complete:disabled,\n",
              "  .colab-df-quickchart-complete:disabled:hover {\n",
              "    background-color: var(--disabled-bg-color);\n",
              "    fill: var(--disabled-fill-color);\n",
              "    box-shadow: none;\n",
              "  }\n",
              "\n",
              "  .colab-df-spinner {\n",
              "    border: 2px solid var(--fill-color);\n",
              "    border-color: transparent;\n",
              "    border-bottom-color: var(--fill-color);\n",
              "    animation:\n",
              "      spin 1s steps(1) infinite;\n",
              "  }\n",
              "\n",
              "  @keyframes spin {\n",
              "    0% {\n",
              "      border-color: transparent;\n",
              "      border-bottom-color: var(--fill-color);\n",
              "      border-left-color: var(--fill-color);\n",
              "    }\n",
              "    20% {\n",
              "      border-color: transparent;\n",
              "      border-left-color: var(--fill-color);\n",
              "      border-top-color: var(--fill-color);\n",
              "    }\n",
              "    30% {\n",
              "      border-color: transparent;\n",
              "      border-left-color: var(--fill-color);\n",
              "      border-top-color: var(--fill-color);\n",
              "      border-right-color: var(--fill-color);\n",
              "    }\n",
              "    40% {\n",
              "      border-color: transparent;\n",
              "      border-right-color: var(--fill-color);\n",
              "      border-top-color: var(--fill-color);\n",
              "    }\n",
              "    60% {\n",
              "      border-color: transparent;\n",
              "      border-right-color: var(--fill-color);\n",
              "    }\n",
              "    80% {\n",
              "      border-color: transparent;\n",
              "      border-right-color: var(--fill-color);\n",
              "      border-bottom-color: var(--fill-color);\n",
              "    }\n",
              "    90% {\n",
              "      border-color: transparent;\n",
              "      border-bottom-color: var(--fill-color);\n",
              "    }\n",
              "  }\n",
              "</style>\n",
              "\n",
              "  <script>\n",
              "    async function quickchart(key) {\n",
              "      const quickchartButtonEl =\n",
              "        document.querySelector('#' + key + ' button');\n",
              "      quickchartButtonEl.disabled = true;  // To prevent multiple clicks.\n",
              "      quickchartButtonEl.classList.add('colab-df-spinner');\n",
              "      try {\n",
              "        const charts = await google.colab.kernel.invokeFunction(\n",
              "            'suggestCharts', [key], {});\n",
              "      } catch (error) {\n",
              "        console.error('Error during call to suggestCharts:', error);\n",
              "      }\n",
              "      quickchartButtonEl.classList.remove('colab-df-spinner');\n",
              "      quickchartButtonEl.classList.add('colab-df-quickchart-complete');\n",
              "    }\n",
              "    (() => {\n",
              "      let quickchartButtonEl =\n",
              "        document.querySelector('#df-00a5d729-c1d4-41be-9971-47faa230cd69 button');\n",
              "      quickchartButtonEl.style.display =\n",
              "        google.colab.kernel.accessAllowed ? 'block' : 'none';\n",
              "    })();\n",
              "  </script>\n",
              "</div>\n",
              "\n",
              "    </div>\n",
              "  </div>\n"
            ],
            "application/vnd.google.colaboratory.intrinsic+json": {
              "type": "dataframe",
              "variable_name": "userRecs_pandas",
              "summary": "{\n  \"name\": \"userRecs_pandas\",\n  \"rows\": 610,\n  \"fields\": [\n    {\n      \"column\": \"userId\",\n      \"properties\": {\n        \"dtype\": \"int32\",\n        \"num_unique_values\": 610,\n        \"samples\": [\n          82,\n          219,\n          56\n        ],\n        \"semantic_type\": \"\",\n        \"description\": \"\"\n      }\n    },\n    {\n      \"column\": \"recommendations\",\n      \"properties\": {\n        \"dtype\": \"object\",\n        \"semantic_type\": \"\",\n        \"description\": \"\"\n      }\n    }\n  ]\n}"
            }
          },
          "metadata": {},
          "execution_count": 18
        }
      ],
      "source": [
        "# Convert the recommendations DataFrame to a Pandas DataFrame\n",
        "userRecs_pandas = userRecs.toPandas()\n",
        "\n",
        "# Display the first few rows of the Pandas DataFrame\n",
        "userRecs_pandas.head()"
      ]
    },
    {
      "cell_type": "code",
      "execution_count": 19,
      "metadata": {
        "id": "fr8Cd7JIBj9P",
        "colab": {
          "base_uri": "https://localhost:8080/",
          "height": 35
        },
        "outputId": "4da950ad-8f25-4904-c813-377a6f5cea2c"
      },
      "outputs": [
        {
          "output_type": "execute_result",
          "data": {
            "text/plain": [
              "'Random Hearts (1999)'"
            ],
            "application/vnd.google.colaboratory.intrinsic+json": {
              "type": "string"
            }
          },
          "metadata": {},
          "execution_count": 19
        }
      ],
      "source": [
        "# Call the function to get the title for movieId 2906\n",
        "get_movie_title_from_id(2906)"
      ]
    },
    {
      "cell_type": "code",
      "execution_count": 20,
      "metadata": {
        "id": "r1ZWvm-oB5hA",
        "colab": {
          "base_uri": "https://localhost:8080/"
        },
        "outputId": "b59ec835-30b5-4c3c-efc4-86224bb1ba62"
      },
      "outputs": [
        {
          "output_type": "stream",
          "name": "stdout",
          "text": [
            "Movie: \n",
            "Zed & Two Noughts, A (1985)\n",
            "Predicted Rating: 5.8545379638671875\n",
            "\n",
            "Movie: \n",
            "Buffalo '66 (a.k.a. Buffalo 66) (1998)\n",
            "Predicted Rating: 5.813051223754883\n",
            "\n",
            "Movie: \n",
            "Emma (2009)\n",
            "Predicted Rating: 5.685601711273193\n",
            "\n",
            "Movie: \n",
            "Pride and Prejudice (1995)\n",
            "Predicted Rating: 5.434269905090332\n",
            "\n",
            "Movie: \n",
            "Superstar (1999)\n",
            "Predicted Rating: 5.258571147918701\n",
            "\n"
          ]
        }
      ],
      "source": [
        "# Call the function to get recommended movies for user 10\n",
        "get_user_recommended_movies(userRecs, 10)"
      ]
    }
  ],
  "metadata": {
    "colab": {
      "provenance": []
    },
    "kernelspec": {
      "display_name": "Python 3 (ipykernel)",
      "language": "python",
      "name": "python3"
    },
    "language_info": {
      "codemirror_mode": {
        "name": "ipython",
        "version": 3
      },
      "file_extension": ".py",
      "mimetype": "text/x-python",
      "name": "python",
      "nbconvert_exporter": "python",
      "pygments_lexer": "ipython3",
      "version": "3.10.1"
    }
  },
  "nbformat": 4,
  "nbformat_minor": 0
}